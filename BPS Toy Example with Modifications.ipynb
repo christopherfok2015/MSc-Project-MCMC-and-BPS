{
 "cells": [
  {
   "cell_type": "code",
   "execution_count": 3,
   "metadata": {},
   "outputs": [],
   "source": [
    "import numpy as np\n",
    "import math\n",
    "import numpy.matlib as matlib\n",
    "import matplotlib.pyplot as plt\n",
    "import operator"
   ]
  },
  {
   "cell_type": "markdown",
   "metadata": {},
   "source": [
    "# The highest-level BPS algorithm (basic version)"
   ]
  },
  {
   "cell_type": "markdown",
   "metadata": {},
   "source": [
    "Thoughts and Questions:\n",
    "\n",
    "1. Do I need to randomise the initialisation of x_0, v_0?\n",
    "\n",
    "2. I wonder whether there is a symbolic differentiation function to obtain gradients of a real-valued multi-variate function.\n",
    "\n",
    "3. In step 2(d), 2(e) of Algorithm 1, what if tau_bounce = tau_ref?\n",
    "\n",
    "4. I have sent an email to Tomas to ask how he created the graphs superimposing colour maps and particle trajectory in his thesis."
   ]
  },
  {
   "cell_type": "code",
   "execution_count": 4,
   "metadata": {},
   "outputs": [],
   "source": [
    "def BPS_basic(x0, v0, Time, lambda_ref, prob_dist, intermediate_times):\n",
    "    \n",
    "    turn_pts = [x0]\n",
    "    list_of_velo = [v0]\n",
    "    striding_times = [0]\n",
    "    dim = x0.size\n",
    "    i = 1\n",
    "    x = x0\n",
    "    v = v0\n",
    "    t = 0\n",
    "    while t < Time:\n",
    "\n",
    "        \n",
    "        tau_bounce = prob_dist.bounce_time(x, v)\n",
    "        \n",
    "\n",
    "        \n",
    "    \n",
    "        beta = 1/lambda_ref\n",
    "        tau_ref = np.random.exponential(scale = beta)\n",
    "        \n",
    "        \n",
    "        \n",
    "        \n",
    "\n",
    "        tau = min(tau_bounce, tau_ref)\n",
    "        x = x + tau*v\n",
    "\n",
    "        t = t + tau\n",
    "        \n",
    "        \n",
    "        if tau_ref < tau_bounce:\n",
    "            v = np.random.standard_normal(dim)\n",
    "        else:\n",
    "            v = v - 2*(np.sum(prob_dist.ener_grad(x)*v))/(np.sum(prob_dist.ener_grad(x)*prob_dist.ener_grad(x)))*prob_dist.ener_grad(x)\n",
    "\n",
    "        \n",
    "        \n",
    "        \n",
    "        list_of_velo.append(v)\n",
    "        turn_pts.append(x)\n",
    "        striding_times.append(t)\n",
    "        \n",
    "        \n",
    "        \n",
    "        \n",
    "        \n",
    "        i = i+1\n",
    "\n",
    "        \n",
    "\n",
    "\n",
    "    \n",
    "    num_changes = len(turn_pts)\n",
    "    \n",
    "    \n",
    "    \n",
    "    \n",
    "# The following are the codes for sampling specific time points of the BPS process:\n",
    "    \n",
    "    \n",
    "    if intermediate_times == ['turning_pts', 'N/A']:\n",
    "        \n",
    "        return turn_pts, list_of_velo, striding_times     # [x_list, v_list, t_list]\n",
    "    \n",
    "    \n",
    "    \n",
    "    \n",
    "    \n",
    "    \n",
    "    elif intermediate_times[0] == 'regu_time_interval':    # for example, intermediate_times = ['regu_time_interval', 0.5]\n",
    "    \n",
    "        create_interm_time = np.arange(0, striding_times[-1], intermediate_times[1])\n",
    "        \n",
    "        num_required_times = len(create_interm_time)\n",
    "        \n",
    "        tiling_interm_times = np.transpose(np.tile(create_interm_time, (num_changes, 1)))\n",
    "        \n",
    "        testing_mat_1 = tiling_interm_times - np.tile(striding_times, (num_required_times, 1))\n",
    "        \n",
    "        testing_mat_2 = np.where(testing_mat_1 >= 0, 1, 0)\n",
    "        \n",
    "        indices_no_later_than = np.sum(testing_mat_2, axis = 1) - 1\n",
    "        \n",
    "        turn_pts_no_later = [turn_pts[i] for i in indices_no_later_than]\n",
    "        \n",
    "        velo_no_later = [list_of_velo[i] for i in indices_no_later_than]    # Note to self: this gives the velo at that instant\n",
    "        \n",
    "        stride_time_no_later = [striding_times[i] for i in indices_no_later_than]\n",
    "    \n",
    "        \n",
    "        \n",
    "        \n",
    "        interm_times = list(create_interm_time)\n",
    "        \n",
    "        list_of_coasting_times = list(map(operator.sub, interm_times, stride_time_no_later))\n",
    "    \n",
    "        distance_strided = list(map(operator.mul, list_of_coasting_times, velo_no_later))\n",
    "    \n",
    "        locations_at_required_times = list(map(operator.add, turn_pts_no_later, distance_strided))\n",
    "        \n",
    "        \n",
    "        \n",
    "        \n",
    "        return turn_pts, list_of_velo, striding_times, locations_at_required_times, velo_no_later, interm_times\n",
    "        \n",
    "        \n",
    "        # all the 6 outputs are lists\n",
    "    \n",
    "    \n",
    "    \n",
    "    \n",
    "    \n",
    "    \n",
    "    \n",
    "    \n",
    "    \n",
    "    \n",
    "    else:       # ie. intermediate_times is a 1D np.array of time points inside [0,Time]\n",
    "        \n",
    "        \n",
    "        num_required_times = len(intermediate_times)\n",
    "        \n",
    "        tiling_interm_times = np.transpose(np.tile(intermediate_times, (num_changes, 1)))   #potential error: me understand tile\n",
    "        \n",
    "        testing_mat_1 = tiling_interm_times - np.tile(striding_times, (num_required_times, 1))\n",
    "        \n",
    "        testing_mat_2 = np.where(testing_mat_1 >= 0, 1, 0)\n",
    "        \n",
    "        indices_no_later_than = np.sum(testing_mat_2, axis = 1) - 1    # potential error: may need to use axis = 0\n",
    "        \n",
    "        turn_pts_no_later = [turn_pts[i] for i in indices_no_later_than]\n",
    "        \n",
    "        velo_no_later = [list_of_velo[i] for i in indices_no_later_than]    # Note to self: this gives the velo at that instant\n",
    "        \n",
    "        stride_time_no_later = [striding_times[i] for i in indices_no_later_than]\n",
    "    \n",
    "        \n",
    "        \n",
    "        \n",
    "        interm_times = list(intermediate_times)\n",
    "        \n",
    "        list_of_coasting_times = list(map(operator.sub, interm_times, stride_time_no_later))\n",
    "    \n",
    "        distance_strided = list(map(operator.mul, list_of_coasting_times, velo_no_later))\n",
    "    \n",
    "        locations_at_required_times = list(map(operator.add, turn_pts_no_later, distance_strided))\n",
    "        \n",
    "        \n",
    "        \n",
    "        \n",
    "        return turn_pts, list_of_velo, striding_times, locations_at_required_times, velo_no_later, interm_times\n",
    "    \n",
    "        # all the 6 outputs are lists\n",
    "    \n",
    "        \n",
    "    \n",
    "    \n",
    "    \n",
    "\n",
    "        \n",
    "        "
   ]
  },
  {
   "cell_type": "markdown",
   "metadata": {},
   "source": [
    "(8th June 2020) The following code is what I wrote into my project report (for the highest-level BPS algorithm). "
   ]
  },
  {
   "cell_type": "code",
   "execution_count": 18,
   "metadata": {},
   "outputs": [],
   "source": [
    "def BPS_basic(x0, v0, Time, lambda_ref, prob_dist):\n",
    "    \n",
    "    turn_pts = [x0]\n",
    "    list_of_velo = [v0]\n",
    "    striding_times = [0]\n",
    "    dim = x0.size\n",
    "    i = 1\n",
    "    x = x0\n",
    "    v = v0\n",
    "    t = 0\n",
    "    \n",
    "    while t < Time:\n",
    "\n",
    "        tau_bounce = prob_dist.bounce_time(x, v)\n",
    "        beta = 1/lambda_ref\n",
    "        tau_ref = np.random.exponential(scale = beta)\n",
    "        tau = min(tau_bounce, tau_ref)\n",
    "        \n",
    "        x = x + tau*v\n",
    "        t = t + tau\n",
    "        \n",
    "        if tau_ref < tau_bounce:\n",
    "            v = np.random.standard_normal(dim)\n",
    "        else:\n",
    "            v = v - 2*(np.sum(prob_dist.ener_grad(x)*v))/(np.sum(prob_dist.ener_grad(x)*\n",
    "                                                                 prob_dist.ener_grad(x)))*prob_dist.ener_grad(x)\n",
    "        \n",
    "        list_of_velo.append(v)\n",
    "        turn_pts.append(x)\n",
    "        striding_times.append(t)\n",
    "        \n",
    "        i = i+1\n",
    "\n",
    "    return turn_pts, list_of_velo, striding_times     # [x_list, v_list, t_list]"
   ]
  },
  {
   "cell_type": "markdown",
   "metadata": {},
   "source": [
    "# The following function allows us to return lists of locations and velocities on arbitrary list of time points on a trajectory."
   ]
  },
  {
   "cell_type": "markdown",
   "metadata": {},
   "source": [
    "First 3 arguments: lists;\n",
    "\n",
    "The last argument: 1D numpy arrays"
   ]
  },
  {
   "cell_type": "markdown",
   "metadata": {},
   "source": [
    "Personal guess: I don't require time instants in intermediate_times to be in ascending order; moreover, it should be fine to have repeated entries in intermediate_times. Under these 2 circumstances, the function should still work."
   ]
  },
  {
   "cell_type": "code",
   "execution_count": 4,
   "metadata": {},
   "outputs": [],
   "source": [
    "def x_v_t_arbitrary_times(turn_pts, list_of_velo, striding_times, intermediate_times):\n",
    "    \n",
    "    num_changes = len(turn_pts)\n",
    "    \n",
    "    num_required_times = len(intermediate_times)\n",
    "        \n",
    "    tiling_interm_times = np.transpose(np.tile(intermediate_times, (num_changes, 1)))   #potential error: me understand tile\n",
    "        \n",
    "    testing_mat_1 = tiling_interm_times - np.tile(striding_times, (num_required_times, 1))\n",
    "        \n",
    "    testing_mat_2 = np.where(testing_mat_1 >= 0, 1, 0)\n",
    "        \n",
    "    indices_no_later_than = np.sum(testing_mat_2, axis = 1) - 1    # potential error: may need to use axis = 0\n",
    "        \n",
    "    turn_pts_no_later = [turn_pts[i] for i in indices_no_later_than]\n",
    "        \n",
    "    velo_no_later = [list_of_velo[i] for i in indices_no_later_than]    # Note to self: this gives the velo at that instant\n",
    "        \n",
    "    stride_time_no_later = [striding_times[i] for i in indices_no_later_than]\n",
    "    \n",
    "        \n",
    "        \n",
    "        \n",
    "    interm_times = list(intermediate_times)\n",
    "        \n",
    "    list_of_coasting_times = list(map(operator.sub, interm_times, stride_time_no_later))\n",
    "    \n",
    "    distance_strided = list(map(operator.mul, list_of_coasting_times, velo_no_later))\n",
    "    \n",
    "    locations_at_required_times = list(map(operator.add, turn_pts_no_later, distance_strided))\n",
    "        \n",
    "        \n",
    "        \n",
    "        \n",
    "    return locations_at_required_times, velo_no_later, interm_times\n",
    "    \n",
    "        # all the 4 outputs are lists"
   ]
  },
  {
   "cell_type": "markdown",
   "metadata": {},
   "source": [
    "(8th June 2020) The following code is what I wrote into my project report. "
   ]
  },
  {
   "cell_type": "code",
   "execution_count": 5,
   "metadata": {},
   "outputs": [],
   "source": [
    "import numpy as np\n",
    "import math\n",
    "import operator\n",
    "\n",
    "def x_v_t_arbitrary_times(turn_pts, list_of_velo, striding_times, intermediate_times):\n",
    "    \n",
    "    num_changes = len(turn_pts)\n",
    "    num_required_times = len(intermediate_times)\n",
    "    tiling_interm_times = np.transpose(np.tile(intermediate_times, (num_changes, 1)))\n",
    "    testing_mat_1 = tiling_interm_times - np.tile(striding_times, (num_required_times, 1))\n",
    "    testing_mat_2 = np.where(testing_mat_1 >= 0, 1, 0)\n",
    "    indices_no_later_than = np.sum(testing_mat_2, axis = 1) - 1\n",
    "        \n",
    "    turn_pts_no_later = [turn_pts[i] for i in indices_no_later_than]\n",
    "    velo_no_later = [list_of_velo[i] for i in indices_no_later_than]\n",
    "    stride_time_no_later = [striding_times[i] for i in indices_no_later_than]\n",
    "    \n",
    "       \n",
    "    interm_times = list(intermediate_times)\n",
    "        \n",
    "    list_of_coasting_times = list(map(operator.sub, interm_times, stride_time_no_later))\n",
    "    distance_strided = list(map(operator.mul, list_of_coasting_times, velo_no_later))\n",
    "    locations_at_required_times = list(map(operator.add, turn_pts_no_later, distance_strided))\n",
    "        \n",
    "\n",
    "    return locations_at_required_times, velo_no_later, interm_times"
   ]
  },
  {
   "cell_type": "code",
   "execution_count": 4,
   "metadata": {},
   "outputs": [
    {
     "data": {
      "text/plain": [
       "2"
      ]
     },
     "execution_count": 4,
     "metadata": {},
     "output_type": "execute_result"
    }
   ],
   "source": [
    "math.ceil(1.5)"
   ]
  },
  {
   "cell_type": "markdown",
   "metadata": {},
   "source": [
    "# Multivariate Gaussian Distribution"
   ]
  },
  {
   "cell_type": "code",
   "execution_count": 5,
   "metadata": {},
   "outputs": [],
   "source": [
    "\n",
    "class Gaussian:\n",
    "    \n",
    "    def __init__(self, mean, cov_mat):\n",
    "        \n",
    "        self.mean = mean\n",
    "        self.cov_mat = cov_mat\n",
    "        self.dim = mean.size\n",
    "    \n",
    "    \n",
    "    \n",
    "    \n",
    "    \n",
    "    def energy(self, x): # constant coeff is discarded\n",
    "        return 0.5*((x - self.mean).dot(np.linalg.inv(self.cov_mat)).dot(x - self.mean))\n",
    "        \n",
    "        \n",
    "        \n",
    "        \n",
    "    def ener_grad(self, x):\n",
    "        return (np.linalg.inv(self.cov_mat)).dot(x - self.mean)\n",
    "    \n",
    "    \n",
    "    \n",
    "    \n",
    "    \n",
    "    def bounce_time(self, x, v):\n",
    "        \n",
    "        # V has uniform distribution over (0,1]. The issue of log(0) has to be avoided.\n",
    "        V = np.random.uniform()*(-1)+1   \n",
    "        \n",
    "        sigma_inv_x_minus_mu = (np.linalg.inv(self.cov_mat)).dot(x - self.mean)\n",
    "        sigma_inv_v = (np.linalg.inv(self.cov_mat)).dot(v)\n",
    "        abbr = np.sum(sigma_inv_v*v)\n",
    "        thres = np.sum(sigma_inv_x_minus_mu*v)\n",
    "        \n",
    "        if thres > 0:\n",
    "            tau_bounce = (1/abbr)*((math.sqrt(thres**2 - 2*abbr*math.log(V))) - thres)\n",
    "        else:\n",
    "            tau_bounce = (1/abbr)*(math.sqrt(-2*abbr*math.log(V)) - thres)\n",
    "            \n",
    "        return tau_bounce"
   ]
  },
  {
   "cell_type": "markdown",
   "metadata": {},
   "source": [
    "# [29-6-2020]: The following is what I write into my report."
   ]
  },
  {
   "cell_type": "code",
   "execution_count": null,
   "metadata": {},
   "outputs": [],
   "source": [
    "import numpy as np\n",
    "import math\n",
    "\n",
    "class Gaussian:\n",
    "    def __init__(self, mean, cov_mat):\n",
    "        self.mean = mean\n",
    "        self.cov_mat = cov_mat\n",
    "        self.dim = mean.size\n",
    "        \n",
    "        \n",
    "    def energy(self, x):   # constant coeff is discarded\n",
    "        return 0.5*((x - self.mean).dot(np.linalg.inv(self.cov_mat)).dot(x - self.mean))      \n",
    "    \n",
    "    \n",
    "    def ener_grad(self, x):\n",
    "        return (np.linalg.inv(self.cov_mat)).dot(x - self.mean)\n",
    "\n",
    "    \n",
    "    def bounce_time(self, x, v):\n",
    "        V = np.random.uniform()*(-1)+1   # V has uniform distribution over (0,1]. The issue of math.log(0) avoided.\n",
    "        \n",
    "        sigma_inv_x_minus_mu = (np.linalg.inv(self.cov_mat)).dot(x - self.mean)\n",
    "        sigma_inv_v = (np.linalg.inv(self.cov_mat)).dot(v)\n",
    "        abbr = np.sum(sigma_inv_v*v)\n",
    "        thres = np.sum(sigma_inv_x_minus_mu*v)\n",
    "        \n",
    "        if thres > 0:\n",
    "            tau_bounce = (1/abbr)*((math.sqrt(thres**2 - 2*abbr*math.log(V))) - thres)\n",
    "        else:\n",
    "            tau_bounce = (1/abbr)*(math.sqrt(-2*abbr*math.log(V)) - thres)\n",
    "        \n",
    "        return tau_bounce"
   ]
  },
  {
   "cell_type": "markdown",
   "metadata": {},
   "source": [
    "# Algorithm 2: Standard Thinning (p.6)"
   ]
  },
  {
   "cell_type": "markdown",
   "metadata": {},
   "source": [
    "Question: don't know how to implement step 2(c) of Algorithm 2. (empty arrivals)"
   ]
  },
  {
   "cell_type": "code",
   "execution_count": null,
   "metadata": {},
   "outputs": [],
   "source": [
    "def thinning_stand(exact_inten, approx_inten_list, approx_arrival_list, x, v):\n",
    "    \n",
    "    s = 0\n",
    "    tau = 0\n",
    "    \n",
    "    num_bounds = len(approx_inten_list)\n",
    "    \n",
    "    approx_arrivals = [0]*num_bounds\n",
    "    \n",
    "    breaking = 0\n",
    "    \n",
    "    while breaking == 0:\n",
    "        \n",
    "        s = tau\n",
    "        \n",
    "\n",
    "        \n",
    "        for i in range(num_bounds):\n",
    "            V = np.random.uniform()*(-1) + 1\n",
    "            quad = [V, x, v, s]\n",
    "            approx_arrivals[i] = (approx_arrival_list[i])(quad)\n",
    "        \n",
    "        \n",
    "        tau = min(approx_arrivals) + s\n",
    "        \n",
    "        W = np.random.uniform()\n",
    "        \n",
    "        chi_approx = 0\n",
    "        \n",
    "        triple = [x, v, tau]\n",
    "        \n",
    "        for i in range(num_bounds):\n",
    "            chi_approx += max(0, (approx_inten_list[i])(triple))\n",
    "        \n",
    "        if W <= max(0, exact_inten(triple))/chi_approx:\n",
    "            breaking = 1\n",
    "            \n",
    "    return tau"
   ]
  },
  {
   "cell_type": "markdown",
   "metadata": {},
   "source": [
    "[2-7-2020] The following is what I wrote into my report:"
   ]
  },
  {
   "cell_type": "code",
   "execution_count": 6,
   "metadata": {},
   "outputs": [],
   "source": [
    "def thinning_stand(exact_intensity, intensity_list, approx_arrival_list, x, v):\n",
    "    \n",
    "    s = 0\n",
    "    tau = 0\n",
    "    num_bounds = len(intensity_list)\n",
    "    approx_arrivals = [0]*num_bounds\n",
    "    breaking = 0\n",
    "    \n",
    "    \n",
    "    while breaking == 0:\n",
    "        s = tau\n",
    "\n",
    "        for i in range(num_bounds):\n",
    "            V = np.random.uniform()*(-1) + 1\n",
    "            quad = [V, x, v, s]\n",
    "            approx_arrivals[i] = (approx_arrival_list[i])(quad)\n",
    "        tau = min(approx_arrivals) + s\n",
    "        \n",
    "        \n",
    "        W = np.random.uniform()\n",
    "        chi_approx = 0\n",
    "        triple = [x, v, tau]\n",
    "        for i in range(num_bounds):\n",
    "            chi_approx += (intensity_list[i])(triple)\n",
    "        \n",
    "        \n",
    "        if W <= exact_intensity(triple)/chi_approx:\n",
    "            breaking = 1\n",
    "       \n",
    "    \n",
    "    return tau"
   ]
  },
  {
   "cell_type": "markdown",
   "metadata": {},
   "source": [
    "# Logistic Regression"
   ]
  },
  {
   "cell_type": "markdown",
   "metadata": {},
   "source": [
    "Assumption made by the paper: all input data have non-negative entries."
   ]
  },
  {
   "cell_type": "code",
   "execution_count": 7,
   "metadata": {},
   "outputs": [],
   "source": [
    "\n",
    "\n",
    "class Logistic_Reg:\n",
    "    \n",
    "    \n",
    "    def __init__(self, data_input, data_output):   # data_input: [R,d]   output: [R]\n",
    "        \n",
    "        self.dist_dim = data_input.shape[1]\n",
    "        self.num_data = data_input.shape[0]\n",
    "        self.data_input = data_input\n",
    "        self.data_output = data_output\n",
    "        \n",
    "        # params for Gaussian prior\n",
    "        self.mean = np.zeros(self.dist_dim)\n",
    "        self.cov_mat = np.identity(self.dist_dim)\n",
    "        self.inv_cov = np.linalg.inv(self.cov_mat)\n",
    "        \n",
    "        \n",
    "#      self.lambda_intensity = lambda triple: triple[1].dot((self.inv_cov).dot(triple[0]+triple[1]*triple[2] - self.mean)) - (self.data_output).dot((self.data_input).dot(triple))\n",
    "        # triple: [x,v,t]\n",
    "      \n",
    "        \n",
    "        \n",
    "        \n",
    "    def energy(self, x):   # Data: [d]\n",
    "\n",
    "        \n",
    "        \n",
    "        prior = Gaussian(self.mean , self.cov_mat)\n",
    "        \n",
    "        \n",
    "        dot_prod = (self.data_input.dot(x))\n",
    "        \n",
    "        log_denom = np.log(1 + np.exp(dot_prod))\n",
    "        log_numer = (dot_prod)*self.data_output\n",
    "        \n",
    "        \n",
    "        return (prior.energy(x) - np.sum(log_numer) + np.sum(log_denom))\n",
    "    \n",
    "    \n",
    "    \n",
    "    \n",
    "    def ener_grad(self, x): # x is np.array with dim = [d]\n",
    "        \n",
    "        lin_trans = (self.data_input).dot(x)\n",
    "        \n",
    "        logistic_lin_trans = 1/(1 + np.exp(-lin_trans)) - self.data_output\n",
    "        \n",
    "        sum_to_R = logistic_lin_trans.dot(self.data_input)\n",
    "        \n",
    "        return (self.inv_cov).dot(x - self.mean) + sum_to_R\n",
    "        \n",
    "        \n",
    "        \n",
    "        \n",
    "\n",
    "        \n",
    "    \n",
    "    \n",
    "    \n",
    "    \n",
    "    \n",
    "    def bounce_time(self, x,v):\n",
    "        \n",
    "        label_parity = (-1)**self.data_output\n",
    "        outer_product = (label_parity.reshape(-1,1)).dot(v.reshape(1,-1))\n",
    "        first_sigma = np.sum(self.data_input*np.where(outer_product > 0, 1, 0), 0)       \n",
    "        \n",
    "        second_sigma = first_sigma.dot(np.abs(v))\n",
    "        \n",
    "        \n",
    "        \n",
    "        intensity_1 = lambda triple: triple[1].dot((self.inv_cov).dot(triple[0]+triple[1]*triple[2] - self.mean))\n",
    "        # triple: [x,v,t]\n",
    "        \n",
    "        intensity_2 = lambda triple: second_sigma\n",
    "        # triple: [x,v,t]\n",
    "        \n",
    "        intensity_list = [intensity_1, intensity_2]\n",
    "        \n",
    "        \n",
    "        \n",
    "        \n",
    "        \n",
    "        \n",
    "        arrival_1 = lambda quad: (math.sqrt((((self.inv_cov).dot(quad[1]+quad[3]*quad[2]-self.mean)).dot(quad[2]))**2 - 2*(((self.inv_cov).dot(quad[2])).dot(quad[2]))*math.log(quad[0])) - (((self.inv_cov).dot(quad[1]+quad[3]*quad[2]-self.mean)).dot(quad[2])))/(((self.inv_cov).dot(quad[2])).dot(quad[2]))            if (((self.inv_cov).dot(quad[1]+quad[3]*quad[2]-self.mean)).dot(quad[2])) > 0               else (math.sqrt(-2*(((self.inv_cov).dot(quad[2])).dot(quad[2]))*math.log(quad[0])) - (((self.inv_cov).dot(quad[1]+quad[3]*quad[2]-self.mean)).dot(quad[2])))/(((self.inv_cov).dot(quad[2])).dot(quad[2]))\n",
    "        # quad: [V,x,v,s]\n",
    "        \n",
    "        arrival_2 = lambda quad: -(1/second_sigma)*math.log(quad[0])      if second_sigma > 0        else math.inf\n",
    "        # quad: [V,x,v,s]\n",
    "        \n",
    "        arrival_list = [arrival_1, arrival_2]\n",
    "        \n",
    "        \n",
    "        \n",
    "        \n",
    "        \n",
    "        lin_trans = lambda x1: (self.data_input).dot(x1)\n",
    "        logistic_lin_trans = lambda x2: 1/(1 + np.exp(-x2)) - self.data_output\n",
    "        sum_to_R = lambda x3: (x3).dot(self.data_input)\n",
    "        ener_grad_1 = lambda x1: (self.inv_cov).dot(x1 - self.mean) + sum_to_R(logistic_lin_trans(lin_trans(x1)))\n",
    "        \n",
    "        \n",
    "        \n",
    "        # for some reason, using self.ener_grad here does not work, so I build ener_grad_1\n",
    "        lambda_intensity = lambda triple: triple[1].dot(ener_grad_1(triple[0] + triple[1]*triple[2]))\n",
    "        # triple: [x,v,t]\n",
    "        \n",
    "        \n",
    "        \n",
    "        \n",
    "        \n",
    "        tau = thinning_stand(lambda_intensity, intensity_list, arrival_list, x, v)\n",
    "        \n",
    "        \n",
    "        \n",
    "        return tau"
   ]
  },
  {
   "cell_type": "markdown",
   "metadata": {},
   "source": [
    "(2 July 2020) The following is the code I write into the report:"
   ]
  },
  {
   "cell_type": "code",
   "execution_count": 7,
   "metadata": {},
   "outputs": [],
   "source": [
    "class Logistic_Reg:\n",
    "\n",
    "    def __init__(self, data_input, data_output):   # data_input: [N,d]   output: [N]\n",
    "        self.dist_dim = data_input.shape[1]\n",
    "        self.num_data = data_input.shape[0]\n",
    "        self.data_input = data_input\n",
    "        self.data_output = data_output\n",
    "        \n",
    "        # params for Gaussian prior\n",
    "        self.mean = np.zeros(data_input.shape[1])\n",
    "        self.cov_mat = np.identity(data_input.shape[1])\n",
    "        self.inv_cov = np.linalg.inv(self.cov_mat)\n",
    "\n",
    "  \n",
    "    def energy(self, w):   # x: [d]\n",
    "        prior = Gaussian(self.mean , self.cov_mat)\n",
    "\n",
    "        dot_prod = (self.data_input).dot(w)\n",
    "        log_denom = np.log(1 + np.exp(dot_prod))\n",
    "        log_numer = (dot_prod)*self.data_output\n",
    "        return (prior.energy(w) - np.sum(log_numer) + np.sum(log_denom))\n",
    "    \n",
    "\n",
    "    def ener_grad(self, w): # x: [d]\n",
    "        \n",
    "        lin_trans = (self.data_input).dot(w)\n",
    "        logistic_lin_trans = 1/(1 + np.exp(-lin_trans)) - self.data_output\n",
    "        sum_to_R = logistic_lin_trans.dot(self.data_input)\n",
    "        return (self.inv_cov).dot(w - self.mean) + sum_to_R\n",
    "        \n",
    "\n",
    "    def bounce_time(self, x, v):\n",
    "        \n",
    "        label_parity = (-1)**self.data_output\n",
    "        outer_product = (label_parity.reshape(-1,1)).dot(v.reshape(1,-1))\n",
    "        first_sigma = np.sum(self.data_input*np.where(outer_product > 0, 1, 0), 0)       \n",
    "        second_sigma = first_sigma.dot(np.abs(v))\n",
    "\n",
    "        \n",
    "        # triple: [x,v,t]\n",
    "        intensity_1 = lambda triple: max(0, triple[1].dot((self.inv_cov).dot(triple[0]+triple[1]*triple[2] - self.mean)))\n",
    "        intensity_2 = lambda triple: second_sigma\n",
    "        intensity_list = [intensity_1, intensity_2]\n",
    "\n",
    "\n",
    "        # quad: [V,x,v,s]\n",
    "        arrival_1 = lambda quad: (math.sqrt((((self.inv_cov).dot(quad[1]+quad[3]*quad[2]-self.mean)).dot(quad[2]))**2 - \n",
    "                                            2*(((self.inv_cov).dot(quad[2])).dot(quad[2]))*math.log(quad[0])) - \n",
    "                                  (((self.inv_cov).dot(quad[1]+quad[3]*quad[2]-self.mean)).dot(quad[2])))/(((self.inv_cov).dot(quad[2])).dot(quad[2]))            if (((self.inv_cov).dot(quad[1]+quad[3]*quad[2]-self.mean)).dot(quad[2])) > 0               else (math.sqrt(-2*(((self.inv_cov).dot(quad[2])).dot(quad[2]))*math.log(quad[0])) - (((self.inv_cov).dot(quad[1]+quad[3]*quad[2]-self.mean)).dot(quad[2])))/(((self.inv_cov).dot(quad[2])).dot(quad[2]))\n",
    "        \n",
    "        arrival_2 = lambda quad: -(1/second_sigma)*math.log(quad[0])      if second_sigma > 0        else math.inf\n",
    "        arrival_list = [arrival_1, arrival_2]\n",
    "        \n",
    "        \n",
    "        # Construction of ener_grad_1\n",
    "        lin_trans = lambda x1: (self.data_input).dot(x1)\n",
    "        logistic_lin_trans = lambda x2: 1/(1 + np.exp(-x2)) - self.data_output\n",
    "        sum_to_R = lambda x3: (x3).dot(self.data_input)\n",
    "        ener_grad_1 = lambda x1: (self.inv_cov).dot(x1 - self.mean) + sum_to_R(logistic_lin_trans(lin_trans(x1)))\n",
    "        \n",
    "        # triple: [x,v,t]\n",
    "        lambda_intensity = lambda triple: max(0, triple[1].dot(ener_grad_1(triple[0] + triple[1]*triple[2])))\n",
    "        \n",
    "        \n",
    "        # standard thinning\n",
    "        tau = thinning_stand(lambda_intensity, intensity_list, arrival_list, x, v)\n",
    "        \n",
    "        \n",
    "        return tau"
   ]
  },
  {
   "cell_type": "markdown",
   "metadata": {},
   "source": [
    "# Exponential Family (Poisson Likelihood)"
   ]
  },
  {
   "cell_type": "markdown",
   "metadata": {},
   "source": [
    "Note: I attempt to generalise the class here to having multiple observations - not just 1."
   ]
  },
  {
   "cell_type": "markdown",
   "metadata": {},
   "source": [
    "Unlike the class Logistic_Reg, the class Gaussian has not been utilised here in the energy def."
   ]
  },
  {
   "cell_type": "code",
   "execution_count": 8,
   "metadata": {},
   "outputs": [],
   "source": [
    "class Exponential_Poisson_fam:\n",
    "    \n",
    "    def __init__(self, y_list):\n",
    "        \n",
    "        self.y_list = y_list\n",
    "        self.num_obs = len(y_list)\n",
    "        self.phi = sum(y_list)\n",
    "        \n",
    "        # params for Gaussian prior\n",
    "        self.mean = 0\n",
    "        self.cov = 1    # cov >0\n",
    "        \n",
    "        \n",
    "        self.lambda_intensity = lambda triple: triple[1]*((triple[0]+triple[1]*triple[2]-self.mean)/self.cov - self.phi + self.num_obs*np.exp(triple[0]+triple[1]*triple[2]))\n",
    "        # triple=[x,v,t]\n",
    "        \n",
    "        \n",
    "    def energy(self, x):   # dim(x)=1\n",
    "        \n",
    "        prior_ener = 0.5*((x - self.mean)**2)/self.cov\n",
    "        \n",
    "        return prior_ener - x*(self.phi) + self.num_obs*np.exp(x)\n",
    "    \n",
    "    \n",
    "    \n",
    "    \n",
    "    \n",
    "    def ener_grad(self, x):\n",
    "        \n",
    "        return x - self.phi + self.num_obs*math.exp(x)\n",
    "    \n",
    "    \n",
    "    \n",
    "    \n",
    "    \n",
    "    def bounce_time(self, x, v):\n",
    "        \n",
    "        # intensity functions\n",
    "        \n",
    "        # Gaussian\n",
    "        intensity_1 = lambda triple: ((triple[0]+triple[1]*triple[2]-self.mean)*triple[1])/self.cov\n",
    "        # triple: [x,v,tau]\n",
    "        \n",
    "        # Sufficient Statistics\n",
    "        intensity_2 = lambda triple: -triple[1]*self.phi\n",
    "        # triple: [x,v,tau]\n",
    "        \n",
    "        # Normalising constant\n",
    "        intensity_3 = lambda triple: triple[1]*np.exp(triple[0]+triple[1]*triple[2])*self.num_obs\n",
    "        # triple: [x,v,tau]\n",
    "        \n",
    "        intensity_list = [intensity_1, intensity_2, intensity_3]\n",
    "        \n",
    "        \n",
    "        \n",
    "        \n",
    "        \n",
    "        # arrival functions\n",
    "        \n",
    "        # Gaussian\n",
    "        arrival_1 = lambda quad: (np.sqrt((((quad[1]+quad[3]*quad[2]-self.mean)*quad[2]/self.cov)**2) - 2*(quad[2])*(quad[2])*np.log(quad[0])/self.cov) - ((quad[1]+quad[3]*quad[2]-self.mean)*quad[2])/self.cov)/((quad[2])*(quad[2])/self.cov)         if ((quad[1]+quad[3]*quad[2]-self.mean)*quad[2])/self.cov > 0         else (np.sqrt(-2*(quad[2])*(quad[2])*np.log(quad[0])/self.cov) - ((quad[1]+quad[3]*quad[2]-self.mean)*quad[2])/self.cov)/((quad[2])*(quad[2])/self.cov)\n",
    "        #quad: [V,x,v,s]\n",
    "        \n",
    "        # Sufficient Statistics\n",
    "        arrival_2 = lambda quad: np.log(quad[0])/(quad[2]*self.phi)     if quad[2]*self.phi <0        else math.inf   \n",
    "        #quad: [V,x,v,s]\n",
    "        \n",
    "        # Normalising constant\n",
    "        arrival_3 = lambda quad: (np.log(np.exp(quad[1]+quad[2]*quad[3])-np.log(quad[0])/self.num_obs) - (quad[1]+quad[2]*quad[3]))/(quad[2])          if (np.log(np.exp(quad[1]+quad[2]*quad[3])-np.log(quad[0])/self.num_obs) - (quad[1]+quad[2]*quad[3]))/(quad[2])>0           else math.inf\n",
    "        #quad: [V,x,v,s]\n",
    "        \n",
    "        arrival_list = [arrival_1, arrival_2, arrival_3]\n",
    "        \n",
    "        \n",
    "        \n",
    "        \n",
    "        \n",
    "        tau = thinning_stand(self.lambda_intensity, intensity_list, arrival_list, x, v)\n",
    "        \n",
    "        \n",
    "        return tau"
   ]
  },
  {
   "cell_type": "markdown",
   "metadata": {},
   "source": [
    "# Execute real examples, debugging, and plot graphs"
   ]
  },
  {
   "cell_type": "markdown",
   "metadata": {},
   "source": [
    "# Multivariate Gaussian distribution"
   ]
  },
  {
   "cell_type": "code",
   "execution_count": 39,
   "metadata": {},
   "outputs": [],
   "source": [
    "mean = np.array([0,0])\n",
    "cov_mat = np.array([[1,0],[0,1]])\n",
    "\n",
    "gaus_test = Gaussian(mean, cov_mat)"
   ]
  },
  {
   "cell_type": "code",
   "execution_count": 16,
   "metadata": {},
   "outputs": [
    {
     "ename": "TypeError",
     "evalue": "BPS_basic() got an unexpected keyword argument 'intermediate_times'",
     "output_type": "error",
     "traceback": [
      "\u001b[1;31m---------------------------------------------------------------------------\u001b[0m",
      "\u001b[1;31mTypeError\u001b[0m                                 Traceback (most recent call last)",
      "\u001b[1;32m<ipython-input-16-640ebc234801>\u001b[0m in \u001b[0;36m<module>\u001b[1;34m\u001b[0m\n\u001b[0;32m      7\u001b[0m \u001b[1;33m\u001b[0m\u001b[0m\n\u001b[0;32m      8\u001b[0m \u001b[1;33m\u001b[0m\u001b[0m\n\u001b[1;32m----> 9\u001b[1;33m \u001b[0mx_list_gaus\u001b[0m\u001b[1;33m,\u001b[0m \u001b[0mv_list_gaus\u001b[0m\u001b[1;33m,\u001b[0m \u001b[0mt_list_gaus\u001b[0m \u001b[1;33m=\u001b[0m \u001b[0mBPS_basic\u001b[0m\u001b[1;33m(\u001b[0m\u001b[0mx0\u001b[0m\u001b[1;33m=\u001b[0m\u001b[0mx0\u001b[0m\u001b[1;33m,\u001b[0m \u001b[0mv0\u001b[0m\u001b[1;33m=\u001b[0m\u001b[0mv0\u001b[0m\u001b[1;33m,\u001b[0m \u001b[0mTime\u001b[0m\u001b[1;33m=\u001b[0m\u001b[0mTime\u001b[0m\u001b[1;33m,\u001b[0m \u001b[0mlambda_ref\u001b[0m\u001b[1;33m=\u001b[0m\u001b[0mlambda_ref\u001b[0m\u001b[1;33m,\u001b[0m \u001b[0mprob_dist\u001b[0m\u001b[1;33m=\u001b[0m\u001b[0mprob_dist\u001b[0m\u001b[1;33m,\u001b[0m \u001b[0mintermediate_times\u001b[0m\u001b[1;33m=\u001b[0m\u001b[1;33m[\u001b[0m\u001b[1;34m'turning_pts'\u001b[0m\u001b[1;33m,\u001b[0m \u001b[1;34m'N/A'\u001b[0m\u001b[1;33m]\u001b[0m\u001b[1;33m)\u001b[0m\u001b[1;33m\u001b[0m\u001b[1;33m\u001b[0m\u001b[0m\n\u001b[0m",
      "\u001b[1;31mTypeError\u001b[0m: BPS_basic() got an unexpected keyword argument 'intermediate_times'"
     ]
    }
   ],
   "source": [
    "\n",
    "x0 = np.array([1,2])\n",
    "v0 = np.array([-4,-3])\n",
    "Time = 100\n",
    "lambda_ref = 0.2\n",
    "prob_dist = gaus_test\n",
    "\n",
    "\n",
    "\n",
    "x_list_gaus, v_list_gaus, t_list_gaus = BPS_basic(x0=x0, v0=v0, Time=Time, lambda_ref=lambda_ref, prob_dist=prob_dist, intermediate_times=['turning_pts', 'N/A'])"
   ]
  },
  {
   "cell_type": "code",
   "execution_count": 25,
   "metadata": {
    "scrolled": true
   },
   "outputs": [
    {
     "data": {
      "text/plain": [
       "81"
      ]
     },
     "execution_count": 25,
     "metadata": {},
     "output_type": "execute_result"
    }
   ],
   "source": [
    "len(x_list_gaus)"
   ]
  },
  {
   "cell_type": "code",
   "execution_count": 10,
   "metadata": {
    "collapsed": true
   },
   "outputs": [
    {
     "name": "stdout",
     "output_type": "stream",
     "text": [
      "List of velocities: \n",
      "[-4 -3]\n",
      "[ 4.97053436 -0.54202228]\n",
      "[0.70363896 4.95024163]\n",
      "[-1.33775783  0.47320999]\n",
      "[ 0.42173127 -0.3635798 ]\n",
      "[-0.10896184  0.5460539 ]\n",
      "[-0.0882308   0.14012989]\n",
      "[1.65201993 0.74304664]\n",
      "[-1.12655891 -1.41850385]\n",
      "[0.72370334 1.66058473]\n",
      " \n",
      "Magnitude of velocities: \n",
      "25\n",
      "25.000000000000007\n",
      "25.00000000000001\n",
      "2.0135236972415846\n",
      "0.3100475383513426\n",
      "0.31004753835134247\n",
      "0.027421061681847825\n",
      "3.281288165810986\n",
      "3.2812881658109854\n",
      "3.281288165810983\n"
     ]
    }
   ],
   "source": [
    "print('List of velocities: ')\n",
    "print(*v_list_gaus, sep = \"\\n\")\n",
    "print(' ')\n",
    "print('Magnitude of velocities: ')\n",
    "print(*[x.dot(x) for x in v_list_gaus], sep = \"\\n\")"
   ]
  },
  {
   "cell_type": "code",
   "execution_count": 11,
   "metadata": {
    "collapsed": true
   },
   "outputs": [
    {
     "data": {
      "text/plain": [
       "[0,\n",
       " 0.9065204926027484,\n",
       " 1.606629147089318,\n",
       " 1.6154172675014515,\n",
       " 1.8674178563034483,\n",
       " 1.9787697945785694,\n",
       " 3.3494115222814482,\n",
       " 7.692347672653367,\n",
       " 8.340195949013411,\n",
       " 10.4915668138267]"
      ]
     },
     "execution_count": 11,
     "metadata": {},
     "output_type": "execute_result"
    }
   ],
   "source": [
    "t_list_gaus"
   ]
  },
  {
   "cell_type": "code",
   "execution_count": 12,
   "metadata": {},
   "outputs": [
    {
     "name": "stdout",
     "output_type": "stream",
     "text": [
      "True\n",
      "True\n"
     ]
    }
   ],
   "source": [
    "print(len(x_list_gaus) == len(v_list_gaus))\n",
    "print(len(t_list_gaus) == len(v_list_gaus))"
   ]
  },
  {
   "cell_type": "markdown",
   "metadata": {},
   "source": [
    "# Another Gaussian to test"
   ]
  },
  {
   "cell_type": "code",
   "execution_count": 21,
   "metadata": {},
   "outputs": [],
   "source": [
    "mean = np.array([0,0])\n",
    "cov_mat = np.identity(2)\n",
    "\n",
    "gaus_test = Gaussian(mean, cov_mat)\n",
    "\n",
    "\n",
    "x0 = np.array([-100,-100])\n",
    "v0 = np.ones(2)\n",
    "Time = 200\n",
    "lambda_ref = 0.01\n",
    "prob_dist = gaus_test\n",
    "\n",
    "\n",
    "\n",
    "x_list_gaus, v_list_gaus, t_list_gaus = BPS_basic(x0=x0, v0=v0, Time=Time, lambda_ref=lambda_ref, prob_dist=prob_dist)"
   ]
  },
  {
   "cell_type": "code",
   "execution_count": 22,
   "metadata": {},
   "outputs": [
    {
     "data": {
      "text/plain": [
       "29"
      ]
     },
     "execution_count": 22,
     "metadata": {},
     "output_type": "execute_result"
    }
   ],
   "source": [
    "len(x_list_gaus)"
   ]
  },
  {
   "cell_type": "code",
   "execution_count": 23,
   "metadata": {},
   "outputs": [
    {
     "data": {
      "image/png": "[encoded data removed]",
      "text/plain": [
       "<Figure size 432x288 with 1 Axes>"
      ]
     },
     "metadata": {
      "needs_background": "light"
     },
     "output_type": "display_data"
    }
   ],
   "source": [
    "# plotting everything together\n",
    "\n",
    "gaus_location = np.transpose(x_list_gaus)\n",
    "\n",
    "horizontal, vertical = gaus_location\n",
    "\n",
    "colors = (0,0,0)\n",
    "area = (np.pi*10)\n",
    "num_points = len(horizontal)\n",
    "\n",
    "# Plot\n",
    "\n",
    "# plt.imshow(ener_vals_gaus, cmap='YlOrRd', extent=[-3, 3, -3, 3])\n",
    "\n",
    "# plt.yticks(np.arange(-3, 4, 1))\n",
    "# plt.xticks(np.arange(-3, 4, 1))\n",
    "plt.axes().set_aspect('equal')\n",
    "\n",
    "plt.scatter(horizontal, vertical, s=area/2, c = np.array([[0,0,0]]))    # if this example code is correct, 1st arg is x-axis; 2nd arg is y-axis.\n",
    "plt.title('Running Basic BPS on Standard Gaussian')\n",
    "\n",
    "for i in range(num_points-1):\n",
    "    plt.arrow(horizontal[i], vertical[i], horizontal[i+1]-horizontal[i], vertical[i+1]-vertical[i], width=0.0001, length_includes_head=True, head_width=0.0001, shape='full')\n",
    "\n",
    "\n",
    "plt.annotate('start', (-100,-100))\n",
    "    \n",
    "\n",
    "plt.show()"
   ]
  },
  {
   "cell_type": "markdown",
   "metadata": {},
   "source": [
    "# Logistic Regression"
   ]
  },
  {
   "cell_type": "code",
   "execution_count": 13,
   "metadata": {
    "collapsed": true
   },
   "outputs": [
    {
     "data": {
      "text/plain": [
       "array([[ 1.,  1.],\n",
       "       [ 1.,  2.],\n",
       "       [ 1.,  3.],\n",
       "       [ 1.,  4.],\n",
       "       [ 1.,  5.],\n",
       "       [ 1.,  6.],\n",
       "       [ 1.,  7.],\n",
       "       [ 1., -1.],\n",
       "       [ 1., -2.],\n",
       "       [ 1., -3.],\n",
       "       [ 1., -4.],\n",
       "       [ 1., -5.],\n",
       "       [ 1., -6.],\n",
       "       [ 1., -7.]])"
      ]
     },
     "execution_count": 13,
     "metadata": {},
     "output_type": "execute_result"
    }
   ],
   "source": [
    "list_7 = np.arange(1,8)\n",
    "sig_coord = np.concatenate((list_7, -list_7))\n",
    "sig_coord = sig_coord.reshape(14,1)\n",
    "triv_coord = np.ones((14,1))\n",
    "data_input = np.concatenate((triv_coord, sig_coord), axis = 1)\n",
    "\n",
    "data_input"
   ]
  },
  {
   "cell_type": "code",
   "execution_count": 14,
   "metadata": {},
   "outputs": [
    {
     "data": {
      "text/plain": [
       "array([1., 0., 1., 1., 1., 1., 1., 0., 1., 0., 0., 0., 0., 0.])"
      ]
     },
     "execution_count": 14,
     "metadata": {},
     "output_type": "execute_result"
    }
   ],
   "source": [
    "half_output = np.ones(7)\n",
    "\n",
    "half_output[1] = 0\n",
    "\n",
    "another_half = 1 - half_output\n",
    "\n",
    "data_output = np.concatenate((half_output, another_half), axis = None)\n",
    "\n",
    "data_output"
   ]
  },
  {
   "cell_type": "code",
   "execution_count": 15,
   "metadata": {},
   "outputs": [],
   "source": [
    "logist_test = Logistic_Reg(data_input, data_output)"
   ]
  },
  {
   "cell_type": "code",
   "execution_count": 16,
   "metadata": {},
   "outputs": [],
   "source": [
    "x0 = np.array([1,2])\n",
    "v0 = np.array([-4,-3])\n",
    "Time = 10\n",
    "lambda_ref = 0.5\n",
    "prob_dist = logist_test\n",
    "\n",
    "x_list_logist, v_list_logist, t_list_logist = BPS_basic(x0=x0, v0=v0, Time=Time, lambda_ref=lambda_ref, prob_dist=prob_dist)"
   ]
  },
  {
   "cell_type": "code",
   "execution_count": 17,
   "metadata": {
    "collapsed": true
   },
   "outputs": [
    {
     "data": {
      "text/plain": [
       "[array([1, 2]),\n",
       " array([-0.90290921,  0.57281809]),\n",
       " array([-0.00650972,  0.74407587]),\n",
       " array([0.46146039, 0.66142108]),\n",
       " array([0.48644227, 0.37816488]),\n",
       " array([-0.62859099,  2.1449449 ]),\n",
       " array([-0.58231454,  2.29209769]),\n",
       " array([0.01972657, 1.27496961]),\n",
       " array([-0.24296336,  0.29548446]),\n",
       " array([-0.25391082,  0.84788051]),\n",
       " array([-0.05480018,  0.29808858]),\n",
       " array([0.20705258, 0.91040094]),\n",
       " array([0.30089143, 0.29296239]),\n",
       " array([0.07252766, 1.89043179]),\n",
       " array([-0.0486977 ,  1.20744385]),\n",
       " array([-0.07745102,  1.33496607]),\n",
       " array([-1.67876961,  0.47728583]),\n",
       " array([-1.60809961,  0.77282285]),\n",
       " array([-1.77966087,  0.76709906]),\n",
       " array([-1.27119497,  0.86556327])]"
      ]
     },
     "execution_count": 17,
     "metadata": {},
     "output_type": "execute_result"
    }
   ],
   "source": [
    "x_list_logist"
   ]
  },
  {
   "cell_type": "code",
   "execution_count": 18,
   "metadata": {
    "collapsed": true
   },
   "outputs": [
    {
     "name": "stdout",
     "output_type": "stream",
     "text": [
      "List of velocities: \n",
      "[-4 -3]\n",
      "[4.91117343 0.93828327]\n",
      "[ 4.9237884  -0.86965956]\n",
      "[ 0.43927163 -4.98066667]\n",
      "[-2.66854859  4.22833873]\n",
      "[0.1452833  0.46198099]\n",
      "[ 0.24667781 -0.4167538 ]\n",
      "[-0.40307377 -1.50293075]\n",
      "[-0.03083183  1.55573735]\n",
      "[ 0.52985395 -1.463053  ]\n",
      "[0.61183619 1.43070814]\n",
      "[ 0.23380395 -1.5383774 ]\n",
      "[-0.22020307  1.54038304]\n",
      "[-0.27193596 -1.53209665]\n",
      "[-0.13724702  0.60869653]\n",
      "[-0.98899343 -0.52971353]\n",
      "[0.26092189 1.09115728]\n",
      "[-1.02605894 -0.03423236]\n",
      "[1.00790545 0.19518046]\n",
      "[-0.93709451  1.21323683]\n",
      " \n",
      "Magnitude of velocities: \n",
      "25\n",
      "24.999999999999996\n",
      "25.0\n",
      "25.000000000000004\n",
      "25.000000000000014\n",
      "0.23453367208448844\n",
      "0.23453367208448858\n",
      "2.4212693022543363\n",
      "2.4212693022543363\n",
      "2.4212693022543386\n",
      "2.421269302254338\n",
      "2.4212693022543395\n",
      "2.4212693022543395\n",
      "2.421269302254337\n",
      "0.38934821069834546\n",
      "1.2587044294920733\n",
      "1.2587044294920733\n",
      "1.0539688013563726\n",
      "1.053968801356372\n",
      "2.3500897252513147\n"
     ]
    }
   ],
   "source": [
    "print('List of velocities: ')\n",
    "print(*v_list_logist, sep = \"\\n\")\n",
    "print(' ')\n",
    "print('Magnitude of velocities: ')\n",
    "print(*[x.dot(x) for x in v_list_logist], sep = \"\\n\")"
   ]
  },
  {
   "cell_type": "code",
   "execution_count": 19,
   "metadata": {
    "collapsed": true
   },
   "outputs": [
    {
     "data": {
      "text/plain": [
       "[0,\n",
       " 0.4757273019388785,\n",
       " 0.6582497683377393,\n",
       " 0.7532924610179453,\n",
       " 0.8101636037253542,\n",
       " 1.2280061964598403,\n",
       " 1.5465318370373293,\n",
       " 3.9871288244863043,\n",
       " 4.638845579292252,\n",
       " 4.993915829821911,\n",
       " 5.369699847516233,\n",
       " 5.797678371701803,\n",
       " 6.199035375315445,\n",
       " 7.236095222572868,\n",
       " 7.681881681627605,\n",
       " 7.891382172469122,\n",
       " 9.510521935726038,\n",
       " 9.78136925536784,\n",
       " 9.948573345766235,\n",
       " 10.453051120703357]"
      ]
     },
     "execution_count": 19,
     "metadata": {},
     "output_type": "execute_result"
    }
   ],
   "source": [
    "t_list_logist"
   ]
  },
  {
   "cell_type": "code",
   "execution_count": 20,
   "metadata": {
    "collapsed": true
   },
   "outputs": [
    {
     "name": "stdout",
     "output_type": "stream",
     "text": [
      "True\n",
      "True\n"
     ]
    }
   ],
   "source": [
    "print(len(x_list_logist) == len(v_list_logist))\n",
    "print(len(t_list_logist) == len(v_list_logist))"
   ]
  },
  {
   "cell_type": "markdown",
   "metadata": {},
   "source": [
    "# Exponential Family (Poisson Likelihood)"
   ]
  },
  {
   "cell_type": "code",
   "execution_count": 21,
   "metadata": {},
   "outputs": [],
   "source": [
    "y_list = [1,2,6,7,5,8,3,6]\n",
    "poi_test = Exponential_Poisson_fam(y_list)\n",
    "\n",
    "x0 = np.array([2])\n",
    "v0 = np.array([-3])\n",
    "Time = 10\n",
    "lambda_ref = 0.5\n",
    "prob_dist = poi_test\n",
    "\n",
    "x_list_poi, v_list_poi, t_list_poi = BPS_basic(x0=x0, v0=v0, Time=Time, lambda_ref=lambda_ref, prob_dist=prob_dist)"
   ]
  },
  {
   "cell_type": "code",
   "execution_count": 22,
   "metadata": {
    "collapsed": true
   },
   "outputs": [
    {
     "data": {
      "text/plain": [
       "[array([2]),\n",
       " array([1.45416697]),\n",
       " array([1.94798186]),\n",
       " array([1.30485331]),\n",
       " array([1.59270453]),\n",
       " array([1.71676542]),\n",
       " array([1.41096096]),\n",
       " array([1.70887561]),\n",
       " array([1.34814618]),\n",
       " array([1.63596202]),\n",
       " array([1.38140043]),\n",
       " array([1.80817646]),\n",
       " array([1.18818682]),\n",
       " array([1.7084709]),\n",
       " array([1.23054194]),\n",
       " array([1.69699405]),\n",
       " array([1.47945698]),\n",
       " array([1.7533497]),\n",
       " array([1.24696064]),\n",
       " array([1.63746665]),\n",
       " array([1.32371644]),\n",
       " array([1.73077394]),\n",
       " array([1.3154808]),\n",
       " array([1.66070724]),\n",
       " array([1.17868458]),\n",
       " array([1.76679811]),\n",
       " array([1.71677576]),\n",
       " array([1.72038032]),\n",
       " array([1.26793432])]"
      ]
     },
     "execution_count": 22,
     "metadata": {},
     "output_type": "execute_result"
    }
   ],
   "source": [
    "x_list_poi"
   ]
  },
  {
   "cell_type": "code",
   "execution_count": 23,
   "metadata": {
    "collapsed": true
   },
   "outputs": [
    {
     "data": {
      "text/plain": [
       "[array([-3]),\n",
       " array([3.]),\n",
       " array([-3.]),\n",
       " array([3.]),\n",
       " array([1.21158641]),\n",
       " array([-1.21158641]),\n",
       " array([1.21158641]),\n",
       " array([-1.21158641]),\n",
       " array([1.21158641]),\n",
       " array([-1.21158641]),\n",
       " array([1.21158641]),\n",
       " array([-1.21158641]),\n",
       " array([1.21158641]),\n",
       " array([-1.21158641]),\n",
       " array([1.21158641]),\n",
       " array([-1.21158641]),\n",
       " array([1.21158641]),\n",
       " array([-1.21158641]),\n",
       " array([1.21158641]),\n",
       " array([-1.21158641]),\n",
       " array([1.21158641]),\n",
       " array([-1.21158641]),\n",
       " array([1.21158641]),\n",
       " array([-1.21158641]),\n",
       " array([1.21158641]),\n",
       " array([-1.21158641]),\n",
       " array([0.16172523]),\n",
       " array([-0.16172523]),\n",
       " array([0.16172523])]"
      ]
     },
     "execution_count": 23,
     "metadata": {},
     "output_type": "execute_result"
    }
   ],
   "source": [
    "v_list_poi"
   ]
  },
  {
   "cell_type": "code",
   "execution_count": 24,
   "metadata": {
    "collapsed": true
   },
   "outputs": [
    {
     "data": {
      "text/plain": [
       "[0,\n",
       " array([0.18194434]),\n",
       " array([0.3465493]),\n",
       " array([0.56092548]),\n",
       " array([0.65687589]),\n",
       " array([0.7592713]),\n",
       " array([1.01167135]),\n",
       " array([1.25755942]),\n",
       " array([1.55529256]),\n",
       " array([1.79284543]),\n",
       " array([2.00295144]),\n",
       " array([2.35519707]),\n",
       " array([2.8669143]),\n",
       " array([3.29633813]),\n",
       " array([3.69080356]),\n",
       " array([4.07579641]),\n",
       " array([4.25534371]),\n",
       " array([4.48140495]),\n",
       " array([4.89936033]),\n",
       " array([5.22167]),\n",
       " array([5.48062818]),\n",
       " array([5.81659885]),\n",
       " array([6.15936692]),\n",
       " array([6.44430445]),\n",
       " array([6.84214867]),\n",
       " array([7.3275565]),\n",
       " array([7.36884316]),\n",
       " array([7.39113134]),\n",
       " array([10.18875301])]"
      ]
     },
     "execution_count": 24,
     "metadata": {},
     "output_type": "execute_result"
    }
   ],
   "source": [
    "t_list_poi"
   ]
  },
  {
   "cell_type": "code",
   "execution_count": 25,
   "metadata": {
    "collapsed": true
   },
   "outputs": [
    {
     "name": "stdout",
     "output_type": "stream",
     "text": [
      "True\n",
      "True\n"
     ]
    }
   ],
   "source": [
    "print(len(x_list_poi) == len(v_list_poi))\n",
    "print(len(v_list_poi) == len(t_list_poi))"
   ]
  },
  {
   "cell_type": "markdown",
   "metadata": {},
   "source": [
    "# Plot the graph for Gaussian"
   ]
  },
  {
   "cell_type": "code",
   "execution_count": 47,
   "metadata": {},
   "outputs": [],
   "source": [
    "mean = np.array([0,0])\n",
    "cov_mat = np.array([[1,0],[0,1]])\n",
    "\n",
    "gaus_test = Gaussian(mean, cov_mat)\n",
    "\n",
    "\n",
    "\n",
    "x0 = np.array([1,2])\n",
    "v0 = np.array([-4,-3])\n",
    "Time = 10000\n",
    "lambda_ref = 0.3\n",
    "prob_dist = gaus_test\n",
    "\n",
    "\n",
    "\n",
    "x_list_gaus, v_list_gaus, t_list_gaus = BPS_basic(x0=x0, v0=v0, Time=Time, lambda_ref=lambda_ref, prob_dist=prob_dist, \n",
    "                                                  intermediate_times=['turning_pts', 'N/A'])"
   ]
  },
  {
   "cell_type": "code",
   "execution_count": 17,
   "metadata": {},
   "outputs": [],
   "source": [
    "# np arrays for colourmap\n",
    "\n",
    "x_coord_raw = np.linspace(-4.0, 4.0, num=401)\n",
    "x_coord = np.tile(x_coord_raw, (401,1))\n",
    "y_coord = -np.transpose(x_coord)\n",
    "\n",
    "ener_vals_gaus = ((x_coord*x_coord)+(y_coord*y_coord))"
   ]
  },
  {
   "cell_type": "code",
   "execution_count": 95,
   "metadata": {
    "scrolled": false
   },
   "outputs": [
    {
     "name": "stderr",
     "output_type": "stream",
     "text": [
      "C:\\Users\\chris\\Desktop\\2019-11-03-Anaconda\\lib\\site-packages\\ipykernel_launcher.py:28: MatplotlibDeprecationWarning: Adding an axes using the same arguments as a previous axes currently reuses the earlier instance.  In a future version, a new instance will always be created and returned.  Meanwhile, this warning can be suppressed, and the future behavior ensured, by passing a unique label to each axes instance.\n"
     ]
    },
    {
     "data": {
      "image/png": "[encoded data removed]",
      "text/plain": [
       "<Figure size 432x288 with 1 Axes>"
      ]
     },
     "metadata": {
      "needs_background": "light"
     },
     "output_type": "display_data"
    }
   ],
   "source": [
    "# plotting everything together\n",
    "\n",
    "gaus_location = np.transpose(x_list_gaus)\n",
    "\n",
    "horizontal, vertical = gaus_location\n",
    "\n",
    "\n",
    "partial_num = 2001\n",
    "\n",
    "\n",
    "\n",
    "partial_horizontal = horizontal[:partial_num]\n",
    "partial_vertical = vertical[:partial_num]\n",
    "\n",
    "\n",
    "\n",
    "\n",
    "colors = (0,0,0)\n",
    "area = (np.pi*6)\n",
    "# num_points = len(horizontal)\n",
    "\n",
    "\n",
    "\n",
    "plt.imshow(ener_vals_gaus, cmap='YlOrRd', extent=[-4, 4, -4, 4])\n",
    "\n",
    "plt.yticks(np.arange(-4, 5, 1))\n",
    "plt.xticks(np.arange(-4, 5, 1))\n",
    "plt.axes().set_aspect('equal')\n",
    "\n",
    "plt.scatter(partial_horizontal, partial_vertical, s=area/2, c = np.array([[0,0,0]]))    # if this example code is correct, 1st arg is x-axis; 2nd arg is y-axis.\n",
    "# plt.title('Running Basic BPS on Standard Gaussian')\n",
    "\n",
    "for i in range(partial_num - 1):\n",
    "    plt.arrow(partial_horizontal[i], partial_vertical[i], partial_horizontal[i+1]-partial_horizontal[i], \n",
    "              partial_vertical[i+1]-partial_vertical[i], width=0.000001, length_includes_head=True, \n",
    "              head_width=0.01, shape='full', linewidth = 0.45)\n",
    "\n",
    "\n",
    "# plt.annotate('start', xy=(1, 2), xytext=(1.1,2.1) )\n",
    "\n",
    "\n",
    "example_bounce_1 = (horizontal[1], vertical[1])\n",
    "example_bounce_1_text = (-3.4, vertical[1] - 0.47)\n",
    "example_bounce_2 = (horizontal[2], vertical[2])\n",
    "example_bounce_2_text = (horizontal[2] + 0.1, vertical[2] - 0.38)\n",
    "example_refreshment = (horizontal[5], vertical[5])\n",
    "example_refreshment_text = (-2.2, vertical[5] + 0.2)\n",
    "\n",
    "\n",
    "# plt.annotate('bounce', xy = example_bounce_1, xytext = example_bounce_1_text)\n",
    "# plt.annotate('bounce', xy = example_bounce_2, xytext = example_bounce_2_text)\n",
    "# plt.annotate('refresh', xy = example_refreshment, xytext = example_refreshment_text)\n",
    "\n",
    "\n",
    "plt.show()"
   ]
  },
  {
   "cell_type": "markdown",
   "metadata": {},
   "source": [
    "# 26-5-2020: Supervisory Meeting with Ben (Discussion about the codes)"
   ]
  },
  {
   "cell_type": "markdown",
   "metadata": {},
   "source": [
    "1. Ben's testing whether the horizontal samples form a standard Gaussian.\n",
    "\n",
    "2. Some further instructions/work he gave me for the following week."
   ]
  },
  {
   "cell_type": "code",
   "execution_count": 14,
   "metadata": {},
   "outputs": [
    {
     "data": {
      "image/png": "[encoded data removed]",
      "text/plain": [
       "<Figure size 432x288 with 1 Axes>"
      ]
     },
     "metadata": {
      "needs_background": "light"
     },
     "output_type": "display_data"
    }
   ],
   "source": [
    "# Supervisor's meeting: with Ben (26 May)\n",
    "\n",
    "x_list_gaus, v_list_gaus, t_list_gaus = BPS_basic(x0=x0, v0=v0, Time=50000, lambda_ref=lambda_ref, prob_dist=prob_dist)\n",
    "\n",
    "\n",
    "\n",
    "gaus_location = np.transpose(x_list_gaus)\n",
    "\n",
    "horizontal, vertical = gaus_location\n",
    "\n",
    "\n",
    "a1 = np.random.normal(loc=0, scale=1, size=len(horizontal)) # make dynamic\n",
    "\n",
    "\n",
    "\n",
    "\n",
    "plt.hist(horizontal, alpha=0.5)\n",
    "\n",
    "plt.hist(a1, alpha=0.5)\n",
    "plt.show()\n",
    "\n",
    "\n",
    "\n",
    "# compare how adaptive thinning (approx method) affects efficiency (e.g. do it on Gaussian - exponential family)"
   ]
  },
  {
   "cell_type": "code",
   "execution_count": 1,
   "metadata": {},
   "outputs": [
    {
     "ename": "TypeError",
     "evalue": "object of type 'int' has no len()",
     "output_type": "error",
     "traceback": [
      "\u001b[1;31m---------------------------------------------------------------------------\u001b[0m",
      "\u001b[1;31mTypeError\u001b[0m                                 Traceback (most recent call last)",
      "\u001b[1;32m<ipython-input-1-f025013374c0>\u001b[0m in \u001b[0;36m<module>\u001b[1;34m\u001b[0m\n\u001b[0;32m      3\u001b[0m \u001b[1;31m# do a histrogram of all the turn point (- actually may be better to do intermediate points between turns?)\u001b[0m\u001b[1;33m\u001b[0m\u001b[1;33m\u001b[0m\u001b[1;33m\u001b[0m\u001b[0m\n\u001b[0;32m      4\u001b[0m \u001b[1;33m\u001b[0m\u001b[0m\n\u001b[1;32m----> 5\u001b[1;33m \u001b[0mlen\u001b[0m\u001b[1;33m(\u001b[0m\u001b[1;36m2\u001b[0m\u001b[1;33m)\u001b[0m\u001b[1;33m\u001b[0m\u001b[1;33m\u001b[0m\u001b[0m\n\u001b[0m",
      "\u001b[1;31mTypeError\u001b[0m: object of type 'int' has no len()"
     ]
    }
   ],
   "source": [
    "# gradual change; demonstrate this algorithm\n",
    "\n",
    "\n",
    "# (me: don't understand this; animation of movement of particles, or fixed images\n",
    "# but having intermediate points. Or do you want animations of histogram?)\n",
    "\n",
    "\n"
   ]
  },
  {
   "cell_type": "markdown",
   "metadata": {},
   "source": [
    "# 26-5-2020: Plot some Figures to show to PINTS Research Group"
   ]
  },
  {
   "cell_type": "markdown",
   "metadata": {},
   "source": [
    "Remark:\n",
    "\n",
    "1. Time is adjusted to 100\n",
    "2. 4 trajectory graphs are plotted: first 10 turns; then 20; then 40; then 60."
   ]
  },
  {
   "cell_type": "code",
   "execution_count": 27,
   "metadata": {
    "collapsed": true
   },
   "outputs": [
    {
     "data": {
      "text/plain": [
       "array([[ 1.        , -1.03270239, -0.87592906,  1.47014293, -0.5454696 ,\n",
       "        -1.30397298,  0.78765521,  1.08108832, -0.12985517, -1.13745865,\n",
       "        -0.35316106,  1.44907056,  0.04069947, -2.01198022,  2.65358571,\n",
       "        -0.64219399, -1.07455953, -0.77884957, -0.80339265, -0.74839006],\n",
       "       [ 2.        ,  0.47547321, -1.95816821, -0.11767135,  2.0640828 ,\n",
       "        -1.18837204, -0.90125698,  0.1559487 ,  2.09921399, -0.07649563,\n",
       "        -1.30549321, -0.38002773,  1.75356576, -1.06263235, -0.91850092,\n",
       "         1.84253798, -0.26104859, -0.62721229, -0.63845465, -0.61866155]])"
      ]
     },
     "execution_count": 27,
     "metadata": {},
     "output_type": "execute_result"
    }
   ],
   "source": [
    "x0 = np.array([1,2])\n",
    "v0 = np.array([-4,-3])\n",
    "Time = 2000\n",
    "lambda_ref = 0.2\n",
    "prob_dist = gaus_test\n",
    "\n",
    "x_list_gaus, v_list_gaus, t_list_gaus = BPS_basic(x0=x0, v0=v0, Time=Time, lambda_ref=lambda_ref, prob_dist=prob_dist)\n",
    "\n",
    "\n",
    "\n",
    "gaus_location = np.transpose(x_list_gaus)"
   ]
  },
  {
   "cell_type": "code",
   "execution_count": 32,
   "metadata": {},
   "outputs": [
    {
     "name": "stderr",
     "output_type": "stream",
     "text": [
      "C:\\Users\\chris\\Desktop\\2019-11-03-Anaconda\\lib\\site-packages\\ipykernel_launcher.py:15: MatplotlibDeprecationWarning: Adding an axes using the same arguments as a previous axes currently reuses the earlier instance.  In a future version, a new instance will always be created and returned.  Meanwhile, this warning can be suppressed, and the future behavior ensured, by passing a unique label to each axes instance.\n",
      "  from ipykernel import kernelapp as app\n"
     ]
    },
    {
     "data": {
      "image/png": "[encoded data removed]",
      "text/plain": [
       "<Figure size 432x288 with 1 Axes>"
      ]
     },
     "metadata": {
      "needs_background": "light"
     },
     "output_type": "display_data"
    }
   ],
   "source": [
    "\n",
    "\n",
    "horizontal_1, vertical_1 = gaus_location[:,:20]\n",
    "\n",
    "colors = (0,0,0)\n",
    "area = (np.pi*10)\n",
    "num_points = len(horizontal_1)\n",
    "\n",
    "# Plot\n",
    "\n",
    "plt.imshow(ener_vals_gaus, cmap='YlOrRd', extent=[-3, 3, -3, 3])\n",
    "\n",
    "plt.yticks(np.arange(-3, 4, 1))\n",
    "plt.xticks(np.arange(-3, 4, 1))\n",
    "plt.axes().set_aspect('equal')\n",
    "\n",
    "plt.scatter(horizontal_1, vertical_1, s=area/2, c = np.array([[0,0,0]]))    # if this example code is correct, 1st arg is x-axis; 2nd arg is y-axis.\n",
    "plt.title('Running Basic BPS on Standard Gaussian')\n",
    "\n",
    "for i in range(num_points-1):\n",
    "    plt.arrow(horizontal_1[i], vertical_1[i], horizontal_1[i+1]-horizontal_1[i], vertical_1[i+1]-vertical_1[i], width=0.0001, length_includes_head=True, head_width=0.0001, shape='full')\n",
    "\n",
    "\n",
    "plt.annotate('start', (1, 2))\n",
    "    \n",
    "\n",
    "plt.show()"
   ]
  },
  {
   "cell_type": "code",
   "execution_count": 34,
   "metadata": {},
   "outputs": [
    {
     "name": "stderr",
     "output_type": "stream",
     "text": [
      "C:\\Users\\chris\\Desktop\\2019-11-03-Anaconda\\lib\\site-packages\\ipykernel_launcher.py:15: MatplotlibDeprecationWarning: Adding an axes using the same arguments as a previous axes currently reuses the earlier instance.  In a future version, a new instance will always be created and returned.  Meanwhile, this warning can be suppressed, and the future behavior ensured, by passing a unique label to each axes instance.\n",
      "  from ipykernel import kernelapp as app\n"
     ]
    },
    {
     "data": {
      "image/png": "[encoded data removed]",
      "text/plain": [
       "<Figure size 432x288 with 1 Axes>"
      ]
     },
     "metadata": {
      "needs_background": "light"
     },
     "output_type": "display_data"
    }
   ],
   "source": [
    "\n",
    "\n",
    "horizontal_1, vertical_1 = gaus_location[:,:40]\n",
    "\n",
    "colors = (0,0,0)\n",
    "area = (np.pi*10)\n",
    "num_points = len(horizontal_1)\n",
    "\n",
    "# Plot\n",
    "\n",
    "plt.imshow(ener_vals_gaus, cmap='YlOrRd', extent=[-3, 3, -3, 3])\n",
    "\n",
    "plt.yticks(np.arange(-3, 4, 1))\n",
    "plt.xticks(np.arange(-3, 4, 1))\n",
    "plt.axes().set_aspect('equal')\n",
    "\n",
    "plt.scatter(horizontal_1, vertical_1, s=area/2, c = np.array([[0,0,0]]))    # if this example code is correct, 1st arg is x-axis; 2nd arg is y-axis.\n",
    "plt.title('Running Basic BPS on Standard Gaussian')\n",
    "\n",
    "for i in range(num_points-1):\n",
    "    plt.arrow(horizontal_1[i], vertical_1[i], horizontal_1[i+1]-horizontal_1[i], vertical_1[i+1]-vertical_1[i], width=0.0001, length_includes_head=True, head_width=0.0001, shape='full')\n",
    "\n",
    "\n",
    "plt.annotate('start', (1, 2))\n",
    "    \n",
    "\n",
    "plt.show()"
   ]
  },
  {
   "cell_type": "code",
   "execution_count": 35,
   "metadata": {},
   "outputs": [
    {
     "name": "stderr",
     "output_type": "stream",
     "text": [
      "C:\\Users\\chris\\Desktop\\2019-11-03-Anaconda\\lib\\site-packages\\ipykernel_launcher.py:15: MatplotlibDeprecationWarning: Adding an axes using the same arguments as a previous axes currently reuses the earlier instance.  In a future version, a new instance will always be created and returned.  Meanwhile, this warning can be suppressed, and the future behavior ensured, by passing a unique label to each axes instance.\n",
      "  from ipykernel import kernelapp as app\n"
     ]
    },
    {
     "data": {
      "image/png": "[encoded data removed]",
      "text/plain": [
       "<Figure size 432x288 with 1 Axes>"
      ]
     },
     "metadata": {
      "needs_background": "light"
     },
     "output_type": "display_data"
    }
   ],
   "source": [
    "\n",
    "\n",
    "horizontal_1, vertical_1 = gaus_location[:,:60]\n",
    "\n",
    "colors = (0,0,0)\n",
    "area = (np.pi*10)\n",
    "num_points = len(horizontal_1)\n",
    "\n",
    "# Plot\n",
    "\n",
    "plt.imshow(ener_vals_gaus, cmap='YlOrRd', extent=[-3, 3, -3, 3])\n",
    "\n",
    "plt.yticks(np.arange(-3, 4, 1))\n",
    "plt.xticks(np.arange(-3, 4, 1))\n",
    "plt.axes().set_aspect('equal')\n",
    "\n",
    "plt.scatter(horizontal_1, vertical_1, s=area/2, c = np.array([[0,0,0]]))    # if this example code is correct, 1st arg is x-axis; 2nd arg is y-axis.\n",
    "plt.title('Running Basic BPS on Standard Gaussian')\n",
    "\n",
    "for i in range(num_points-1):\n",
    "    plt.arrow(horizontal_1[i], vertical_1[i], horizontal_1[i+1]-horizontal_1[i], vertical_1[i+1]-vertical_1[i], width=0.0001, length_includes_head=True, head_width=0.0001, shape='full')\n",
    "\n",
    "\n",
    "plt.annotate('start', (1, 2))\n",
    "    \n",
    "\n",
    "plt.show()"
   ]
  },
  {
   "cell_type": "code",
   "execution_count": 39,
   "metadata": {},
   "outputs": [
    {
     "name": "stderr",
     "output_type": "stream",
     "text": [
      "C:\\Users\\chris\\Desktop\\2019-11-03-Anaconda\\lib\\site-packages\\ipykernel_launcher.py:15: MatplotlibDeprecationWarning: Adding an axes using the same arguments as a previous axes currently reuses the earlier instance.  In a future version, a new instance will always be created and returned.  Meanwhile, this warning can be suppressed, and the future behavior ensured, by passing a unique label to each axes instance.\n",
      "  from ipykernel import kernelapp as app\n"
     ]
    },
    {
     "data": {
      "image/png": "[encoded data removed]",
      "text/plain": [
       "<Figure size 432x288 with 1 Axes>"
      ]
     },
     "metadata": {
      "needs_background": "light"
     },
     "output_type": "display_data"
    }
   ],
   "source": [
    "\n",
    "\n",
    "horizontal_1, vertical_1 = gaus_location[:,:10]\n",
    "\n",
    "colors = (0,0,0)\n",
    "area = (np.pi*10)\n",
    "num_points = len(horizontal_1)\n",
    "\n",
    "# Plot\n",
    "\n",
    "plt.imshow(ener_vals_gaus, cmap='YlOrRd', extent=[-3, 3, -3, 3])\n",
    "\n",
    "plt.yticks(np.arange(-3, 4, 1))\n",
    "plt.xticks(np.arange(-3, 4, 1))\n",
    "plt.axes().set_aspect('equal')\n",
    "\n",
    "plt.scatter(horizontal_1, vertical_1, s=area/2, c = np.array([[0,0,0]]))    # if this example code is correct, 1st arg is x-axis; 2nd arg is y-axis.\n",
    "plt.title('Running Basic BPS on Standard Gaussian')\n",
    "\n",
    "for i in range(num_points-1):\n",
    "    plt.arrow(horizontal_1[i], vertical_1[i], horizontal_1[i+1]-horizontal_1[i], vertical_1[i+1]-vertical_1[i], width=0.0001, length_includes_head=True, head_width=0.0001, shape='full')\n",
    "\n",
    "\n",
    "plt.annotate('start', (1, 2))\n",
    "    \n",
    "\n",
    "plt.show()"
   ]
  },
  {
   "cell_type": "markdown",
   "metadata": {},
   "source": [
    "# Task 1: modify my Basic BPS algorithm to accommodate time at any instances; testing and debugging that code; plot histograms"
   ]
  },
  {
   "cell_type": "code",
   "execution_count": 13,
   "metadata": {},
   "outputs": [],
   "source": [
    "mean = np.array([0,0])\n",
    "cov_mat = np.array([[1,0],[0,1]])\n",
    "\n",
    "gaus_test = Gaussian(mean, cov_mat)"
   ]
  },
  {
   "cell_type": "code",
   "execution_count": 15,
   "metadata": {},
   "outputs": [],
   "source": [
    "x0 = np.array([5,5])\n",
    "v0 = np.array([-4,-3])\n",
    "Time = 5000\n",
    "lambda_ref = 0.2\n",
    "prob_dist = gaus_test\n",
    "intermediate_times = ['turning_pts', 'N/A']\n",
    "\n",
    "\n",
    "\n",
    "# turnings: {x_list, v_list, t_list}; required_intermediate: {x_list, v_list, t_list}\n",
    "x_list_gaus, v_list_gaus, t_list_gaus = BPS_basic(x0=x0, v0=v0, Time=Time, lambda_ref=lambda_ref, prob_dist=prob_dist, intermediate_times = intermediate_times)"
   ]
  },
  {
   "cell_type": "code",
   "execution_count": 16,
   "metadata": {},
   "outputs": [],
   "source": [
    "rand_time_instants = np.random.uniform(0,5000,(len(x_list_gaus)))\n",
    "\n",
    "x_rand_times, v_rand_times, t_rand_times = x_v_t_arbitrary_times(x_list_gaus, v_list_gaus, t_list_gaus, rand_time_instants)"
   ]
  },
  {
   "cell_type": "code",
   "execution_count": 19,
   "metadata": {},
   "outputs": [
    {
     "data": {
      "text/plain": [
       "3603"
      ]
     },
     "execution_count": 19,
     "metadata": {},
     "output_type": "execute_result"
    }
   ],
   "source": [
    "len(x_list_gaus)"
   ]
  },
  {
   "cell_type": "markdown",
   "metadata": {},
   "source": [
    "No errors returned. Also, cannot observe anything abnormal with x_list_interm_gaus, v_list_interm_gaus, t_list_interm_gaus"
   ]
  },
  {
   "cell_type": "code",
   "execution_count": 64,
   "metadata": {},
   "outputs": [
    {
     "data": {
      "text/plain": [
       "array([[ 5.        ,  5.        ],\n",
       "       [ 3.26740932,  4.16286861],\n",
       "       [ 2.08822913,  4.6223388 ],\n",
       "       ...,\n",
       "       [ 0.90090303,  0.29865139],\n",
       "       [ 0.37397339,  0.02556273],\n",
       "       [-0.51315507,  0.35085588]])"
      ]
     },
     "execution_count": 64,
     "metadata": {},
     "output_type": "execute_result"
    }
   ],
   "source": [
    "np.array(x_list_interm_gaus)"
   ]
  },
  {
   "cell_type": "code",
   "execution_count": 62,
   "metadata": {},
   "outputs": [
    {
     "data": {
      "text/plain": [
       "5000.260992965694"
      ]
     },
     "execution_count": 62,
     "metadata": {},
     "output_type": "execute_result"
    }
   ],
   "source": [
    "t_list_gaus[-1]"
   ]
  },
  {
   "cell_type": "code",
   "execution_count": 65,
   "metadata": {},
   "outputs": [
    {
     "data": {
      "image/png": "[encoded data removed]",
      "text/plain": [
       "<Figure size 432x288 with 1 Axes>"
      ]
     },
     "metadata": {
      "needs_background": "light"
     },
     "output_type": "display_data"
    }
   ],
   "source": [
    "\n",
    "gaus_location = np.transpose(np.array(x_list_interm_gaus))\n",
    "\n",
    "horizontal, vertical = gaus_location\n",
    "\n",
    "\n",
    "a1 = np.random.normal(loc=0, scale=1, size=len(horizontal))     # make dynamic\n",
    "\n",
    "\n",
    "\n",
    "\n",
    "plt.hist(horizontal, alpha=0.5)\n",
    "\n",
    "plt.hist(a1, alpha=0.5)\n",
    "plt.show()\n",
    "\n"
   ]
  },
  {
   "cell_type": "markdown",
   "metadata": {},
   "source": [
    "# Task 1.5: Comparison between sampling the turning points, and randomised selection of time points within the travelling time interval"
   ]
  },
  {
   "cell_type": "code",
   "execution_count": 20,
   "metadata": {},
   "outputs": [],
   "source": [
    "turning_locations = np.transpose(np.array(x_list_gaus))\n",
    "horizontal_turning, vertical_turning = turning_locations\n",
    "\n",
    "\n",
    "rand_locations = np.transpose(np.array(x_rand_times))\n",
    "horizontal_rand, vertical_rand = rand_locations\n",
    "\n",
    "\n",
    "a1 = np.random.normal(loc=0, scale=1, size=len(horizontal_turning))"
   ]
  },
  {
   "cell_type": "markdown",
   "metadata": {},
   "source": [
    "Comparison between the 2"
   ]
  },
  {
   "cell_type": "code",
   "execution_count": 29,
   "metadata": {},
   "outputs": [
    {
     "data": {
      "image/png": "[encoded data removed]",
      "text/plain": [
       "<Figure size 432x288 with 1 Axes>"
      ]
     },
     "metadata": {
      "needs_background": "light"
     },
     "output_type": "display_data"
    }
   ],
   "source": [
    "plt.hist(horizontal_turning, alpha=0.5, label='BPS changing points')\n",
    "plt.hist(horizontal_rand, alpha=0.5, label='BPS random times')\n",
    "\n",
    "plt.show()"
   ]
  },
  {
   "cell_type": "markdown",
   "metadata": {},
   "source": [
    "Comparison between sampling turning points and sampling directly from standard Gaussian"
   ]
  },
  {
   "cell_type": "code",
   "execution_count": 23,
   "metadata": {},
   "outputs": [
    {
     "data": {
      "image/png": "[encoded data removed]",
      "text/plain": [
       "<Figure size 432x288 with 1 Axes>"
      ]
     },
     "metadata": {
      "needs_background": "light"
     },
     "output_type": "display_data"
    }
   ],
   "source": [
    "plt.hist(a1, alpha=0.5, label='from standard gaus')\n",
    "plt.hist(horizontal_rand, alpha=0.5, label='BPS random times')\n",
    "plt.show()"
   ]
  },
  {
   "cell_type": "markdown",
   "metadata": {},
   "source": [
    "Comparison between sampling time points randomly selected and sampling directly from standard Gaussian"
   ]
  },
  {
   "cell_type": "code",
   "execution_count": 24,
   "metadata": {},
   "outputs": [
    {
     "data": {
      "image/png": "[encoded data removed]",
      "text/plain": [
       "<Figure size 432x288 with 1 Axes>"
      ]
     },
     "metadata": {
      "needs_background": "light"
     },
     "output_type": "display_data"
    }
   ],
   "source": [
    "plt.hist(horizontal_turning, alpha=0.5, label='BPS changing points')\n",
    "plt.hist(a1, alpha=0.5, label='from stand gaus')\n",
    "plt.show()"
   ]
  },
  {
   "cell_type": "markdown",
   "metadata": {},
   "source": [
    "# Task 2: test my Basic BPS algorithm on other multivariate Gaussian distributions"
   ]
  },
  {
   "cell_type": "code",
   "execution_count": 66,
   "metadata": {},
   "outputs": [],
   "source": [
    "mean = np.array([-9,-10])\n",
    "cov_mat = np.array([[5,3],[3,5]])\n",
    "\n",
    "gaus_test = Gaussian(mean, cov_mat)"
   ]
  },
  {
   "cell_type": "code",
   "execution_count": 86,
   "metadata": {},
   "outputs": [],
   "source": [
    "x0 = np.array([-4,-6])\n",
    "v0 = np.array([5,0])\n",
    "Time = 30\n",
    "lambda_ref = 0.2\n",
    "prob_dist = gaus_test\n",
    "intermediate_times = random\n",
    "\n",
    "\n",
    "\n",
    "# turnings: {x_list, v_list, t_list}; required_intermediate: {x_list, v_list, t_list}\n",
    "x_list_gaus, v_list_gaus, t_list_gaus = BPS_basic(x0=x0, v0=v0, Time=Time, lambda_ref=lambda_ref, prob_dist=prob_dist, intermediate_times = intermediate_times)"
   ]
  },
  {
   "cell_type": "code",
   "execution_count": 82,
   "metadata": {},
   "outputs": [
    {
     "data": {
      "text/plain": [
       "(-4, -6)"
      ]
     },
     "execution_count": 82,
     "metadata": {},
     "output_type": "execute_result"
    }
   ],
   "source": [
    "tuple(x0)"
   ]
  },
  {
   "cell_type": "code",
   "execution_count": 107,
   "metadata": {},
   "outputs": [],
   "source": [
    "# np arrays for colourmap\n",
    "\n",
    "x_coord_raw = np.linspace(-16.0, -2.0, num=501)\n",
    "x_coord = np.tile(x_coord_raw, (501,1))\n",
    "y_coord = -np.transpose(x_coord) - 19\n",
    "\n",
    "x_and_mu = x_coord + 9\n",
    "y_and_mu = y_coord + 10\n",
    "\n",
    "color_magnification = 500\n",
    "\n",
    "ener_vals_gaus = (5*(x_and_mu*x_and_mu) + 5*(y_and_mu*y_and_mu) - 6*(x_and_mu*y_and_mu))*color_magnification"
   ]
  },
  {
   "cell_type": "code",
   "execution_count": 109,
   "metadata": {},
   "outputs": [
    {
     "name": "stderr",
     "output_type": "stream",
     "text": [
      "C:\\Users\\chris\\Desktop\\2019-11-03-Anaconda\\lib\\site-packages\\ipykernel_launcher.py:17: MatplotlibDeprecationWarning: Adding an axes using the same arguments as a previous axes currently reuses the earlier instance.  In a future version, a new instance will always be created and returned.  Meanwhile, this warning can be suppressed, and the future behavior ensured, by passing a unique label to each axes instance.\n",
      "'c' argument looks like a single numeric RGB or RGBA sequence, which should be avoided as value-mapping will have precedence in case its length matches with 'x' & 'y'.  Please use a 2-D array with a single row if you really want to specify the same RGB or RGBA value for all points.\n"
     ]
    },
    {
     "data": {
      "image/png": "[encoded data removed]",
      "text/plain": [
       "<Figure size 432x288 with 1 Axes>"
      ]
     },
     "metadata": {
      "needs_background": "light"
     },
     "output_type": "display_data"
    }
   ],
   "source": [
    "# plotting everything together\n",
    "\n",
    "gaus_location = np.transpose(x_list_gaus)\n",
    "\n",
    "horizontal, vertical = gaus_location\n",
    "\n",
    "colors = np.array([0,0,0])\n",
    "area = (np.pi*10)\n",
    "num_points = len(horizontal)\n",
    "\n",
    "# Plot\n",
    "\n",
    "plt.imshow(ener_vals_gaus, cmap='hsv', extent=[-16, -2, -17, -3])\n",
    "\n",
    "plt.yticks(np.arange(-17, -2, 2))\n",
    "plt.xticks(np.arange(-16, -1, 2))\n",
    "plt.axes().set_aspect('equal')\n",
    "\n",
    "plt.scatter(horizontal, vertical, s=area/2, c = colors)    # if this example code is correct, 1st arg is x-axis; 2nd arg is y-axis.\n",
    "plt.title('Running Basic BPS on other Gaussian distributions')\n",
    "\n",
    "for i in range(num_points-1):\n",
    "    plt.arrow(horizontal[i], vertical[i], horizontal[i+1]-horizontal[i], vertical[i+1]-vertical[i], width=0.0001, length_includes_head=True, head_width=0.0001, shape='full')\n",
    "\n",
    "\n",
    "plt.annotate('start', tuple(x0))\n",
    "    \n",
    "\n",
    "plt.show()\n",
    "\n",
    "\n",
    "\n",
    "# x-axis: -16;-2. y-axis: -17;-3"
   ]
  },
  {
   "cell_type": "markdown",
   "metadata": {},
   "source": [
    "# Task 3: Make animation(s) of Movements of Particles"
   ]
  },
  {
   "cell_type": "code",
   "execution_count": null,
   "metadata": {},
   "outputs": [],
   "source": []
  }
 ],
 "metadata": {
  "kernelspec": {
   "display_name": "Python 3",
   "language": "python",
   "name": "python3"
  },
  "language_info": {
   "codemirror_mode": {
    "name": "ipython",
    "version": 3
   },
   "file_extension": ".py",
   "mimetype": "text/x-python",
   "name": "python",
   "nbconvert_exporter": "python",
   "pygments_lexer": "ipython3",
   "version": "3.7.4"
  }
 },
 "nbformat": 4,
 "nbformat_minor": 2
}
